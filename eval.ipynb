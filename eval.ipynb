{
 "cells": [
  {
   "cell_type": "code",
   "execution_count": null,
   "id": "7b3d0d55-1093-4308-8ee8-b4a982a4f42d",
   "metadata": {},
   "outputs": [],
   "source": [
    "%load_ext autoreload\n",
    "%autoreload 2\n",
    "\n",
    "from model import LitS4Model\n",
    "from data import LitDataModule\n",
    "from plotting import *\n",
    "import torch\n",
    "from torch.utils.data import DataLoader\n",
    "device = 'cuda' if torch.cuda.is_available() else 'cpu'\n",
    "import tqdm\n",
    "import numpy as np"
   ]
  },
  {
   "cell_type": "code",
   "execution_count": null,
   "id": "2a2f9597-df42-4675-92a1-76c6081e18e6",
   "metadata": {},
   "outputs": [],
   "source": [
    "CHECKPOINT = '/n/home03/creissel/neutrino_project/runs/test/lightning_logs/sz91zusj/checkpoints/epoch=1-step=1190.ckpt'"
   ]
  },
  {
   "cell_type": "code",
   "execution_count": null,
   "id": "bd62275e-fb98-4c4f-b159-36bfe784bdd7",
   "metadata": {},
   "outputs": [],
   "source": [
    "model = LitS4Model.load_from_checkpoint(CHECKPOINT)\n",
    "model = model.to(device)\n",
    "model = model.eval()"
   ]
  },
  {
   "cell_type": "code",
   "execution_count": null,
   "id": "187e738b-7291-478d-ba97-069ba6a844fb",
   "metadata": {},
   "outputs": [],
   "source": [
    "#dataset = LitDataModule.load_from_checkpoint(CHECKPOINT, inputs=['output_ts_I'], variables=model.variables)\n",
    "dataset = LitDataModule.load_from_checkpoint(CHECKPOINT)"
   ]
  },
  {
   "cell_type": "code",
   "execution_count": null,
   "id": "ba1dc67f-5430-4482-b8aa-90e29ccd5ea2",
   "metadata": {},
   "outputs": [],
   "source": [
    "true = []\n",
    "pred = []\n",
    "meta = []\n",
    "\n",
    "for ts,var,obs in dataset.test_dataloader():\n",
    "    with torch.no_grad():\n",
    "        pred.append(model(ts.to(device)).cpu().numpy())\n",
    "        true.append(var.numpy())\n",
    "        meta.append(obs.numpy())"
   ]
  },
  {
   "cell_type": "code",
   "execution_count": null,
   "id": "df21cb4f-eeb2-4ab6-b415-a00336bf82cb",
   "metadata": {},
   "outputs": [],
   "source": [
    "#true = np.concatenate(true)\n",
    "#pred = np.concatenate(pred)\n",
    "\n",
    "true = np.concatenate(true, axis=0)\n",
    "pred = np.concatenate(pred, axis=0)\n",
    "meta = np.concatenate(meta, axis=0)"
   ]
  },
  {
   "cell_type": "code",
   "execution_count": null,
   "id": "6475f487-a037-4b30-9713-1451c7535a62",
   "metadata": {},
   "outputs": [],
   "source": [
    "# undo the normalization\n",
    "pred_post = pred * dataset.stds + dataset.mu\n",
    "true_post = true * dataset.stds + dataset.mu"
   ]
  },
  {
   "cell_type": "code",
   "execution_count": null,
   "id": "c526b8a8-4f00-45e2-88be-802494e514ee",
   "metadata": {},
   "outputs": [],
   "source": [
    "f = make_all_plots(dataset.variables, true_post, pred_post)"
   ]
  }
 ],
 "metadata": {
  "kernelspec": {
   "display_name": "Python [conda env:miniforge3-ssm]",
   "language": "python",
   "name": "conda-env-miniforge3-ssm-py"
  },
  "language_info": {
   "codemirror_mode": {
    "name": "ipython",
    "version": 3
   },
   "file_extension": ".py",
   "mimetype": "text/x-python",
   "name": "python",
   "nbconvert_exporter": "python",
   "pygments_lexer": "ipython3",
   "version": "3.10.14"
  }
 },
 "nbformat": 4,
 "nbformat_minor": 5
}
